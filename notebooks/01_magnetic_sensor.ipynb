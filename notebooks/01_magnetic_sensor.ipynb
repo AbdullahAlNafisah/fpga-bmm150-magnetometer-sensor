{
 "cells": [
  {
   "cell_type": "markdown",
   "id": "a04d5ddc",
   "metadata": {},
   "source": [
    "# Serial Connection\n"
   ]
  },
  {
   "cell_type": "code",
   "execution_count": 387,
   "id": "996e1e6b",
   "metadata": {},
   "outputs": [
    {
     "name": "stdout",
     "output_type": "stream",
     "text": [
      "Available Serial Ports: ['/dev/ttyUSB0', '/dev/ttyprintk', '/dev/ttyS31', '/dev/ttyS30', '/dev/ttyS29', '/dev/ttyS28', '/dev/ttyS27', '/dev/ttyS26', '/dev/ttyS25', '/dev/ttyS24', '/dev/ttyS23', '/dev/ttyS22', '/dev/ttyS21', '/dev/ttyS20', '/dev/ttyS19', '/dev/ttyS18', '/dev/ttyS17', '/dev/ttyS16', '/dev/ttyS15', '/dev/ttyS14', '/dev/ttyS13', '/dev/ttyS12', '/dev/ttyS11', '/dev/ttyS10', '/dev/ttyS9', '/dev/ttyS8', '/dev/ttyS7', '/dev/ttyS6', '/dev/ttyS5', '/dev/ttyS4', '/dev/ttyS3', '/dev/ttyS2', '/dev/ttyS1', '/dev/ttyS0']\n"
     ]
    }
   ],
   "source": [
    "import glob\n",
    "\n",
    "available_ports = glob.glob(\"/dev/tty[A-Za-z]*\")\n",
    "print(\"Available Serial Ports:\", available_ports)"
   ]
  },
  {
   "cell_type": "code",
   "execution_count": 388,
   "id": "018a1589",
   "metadata": {},
   "outputs": [],
   "source": [
    "import time, serial, struct\n",
    "import matplotlib.pyplot as plt\n",
    "import numpy as np\n",
    "from IPython.display import display, clear_output\n",
    "\n",
    "SERIAL_PORT = \"/dev/ttyUSB0\"  # Change to match your setup\n",
    "BAUD_RATE = 115200"
   ]
  },
  {
   "cell_type": "code",
   "execution_count": 389,
   "id": "fdd7d172",
   "metadata": {},
   "outputs": [],
   "source": [
    "def clean_uart():\n",
    "    with serial.Serial(SERIAL_PORT, BAUD_RATE, timeout=0.5) as ser:\n",
    "        print(f\"Connected to {SERIAL_PORT} @ {BAUD_RATE} baud.\")\n",
    "        ser.reset_input_buffer()\n",
    "        ser.reset_output_buffer()\n",
    "        return 1\n",
    "\n",
    "def read_addr(addr):\n",
    "    with serial.Serial(SERIAL_PORT, BAUD_RATE, timeout=0.5) as ser:\n",
    "        print(f\"Connected to {SERIAL_PORT} @ {BAUD_RATE} baud.\")\n",
    "        ser.write(bytes([0xA2]))\n",
    "        rw_addr = addr | 0x80\n",
    "        ser.write(bytes([rw_addr]))\n",
    "        return ser.read(2)\n",
    "\n",
    "def write_addr(addr, data):\n",
    "    with serial.Serial(SERIAL_PORT, BAUD_RATE, timeout=0.5) as ser:\n",
    "        print(f\"Connected to {SERIAL_PORT} @ {BAUD_RATE} baud.\")\n",
    "        ser.write(bytes([0xA2]))\n",
    "        ser.write(bytes([addr]))\n",
    "        ser.write(bytes([data]))\n",
    "        return ser.read(2)\n",
    "    \n",
    "def read_burst():\n",
    "    with serial.Serial(SERIAL_PORT, BAUD_RATE, timeout=0.5) as ser:\n",
    "        print(f\"Connected to {SERIAL_PORT} @ {BAUD_RATE} baud.\")\n",
    "        ser.write(bytes([0xA3]))\n",
    "        data = ser.read(8)\n",
    "        return data"
   ]
  },
  {
   "cell_type": "markdown",
   "id": "336246f4",
   "metadata": {},
   "source": [
    "# Suspend mode\n"
   ]
  },
  {
   "cell_type": "markdown",
   "id": "e43ae90e",
   "metadata": {},
   "source": [
    "Default power mode\n",
    "\n",
    "Register (0x4B) contains control bits for power control, soft reset and interface SPI mode  \n",
    "selection. This special control register is accessible in suspend mode.\n",
    "\n",
    "- 0x4B:\n",
    "  - 7: soft reset '1'\n",
    "  - 6: fixed '0'\n",
    "  - 5: fixed '0'\n",
    "  - 4: fixed '0'\n",
    "  - 3: fixed '0'\n",
    "  - 2: enable SPI3 mode\n",
    "  - 1: soft reset '1'\n",
    "  - 0: power control where '0' is suspend mode and '1' is sleep mode\n",
    "\n",
    "Soft reset is executed when both bits (register 0x4B bit7 and bit1) are set “1”. Soft reset does not\n",
    "execute a full POR sequence, but all registers are reset except for the “trim” registers above  \n",
    "register 0x54 and the power control register (0x4B). Soft reset always brings the device into sleep\n",
    "mode. When device is in the suspend mode, soft reset is ignored and the device remains in  \n",
    "suspend mode. The two “Soft Reset” bits are reset to “0” automatically after soft reset was  \n",
    "completed. To perform a full POR reset, bring the device into suspend and then back into sleep\n",
    "mode.\n"
   ]
  },
  {
   "cell_type": "code",
   "execution_count": 360,
   "id": "ceef0135",
   "metadata": {},
   "outputs": [
    {
     "name": "stdout",
     "output_type": "stream",
     "text": [
      "Connected to /dev/ttyUSB0 @ 115200 baud.\n"
     ]
    },
    {
     "data": {
      "text/plain": [
       "b'\\xff'"
      ]
     },
     "execution_count": 360,
     "metadata": {},
     "output_type": "execute_result"
    }
   ],
   "source": [
    "write_addr(0x4B, 0x01)"
   ]
  },
  {
   "cell_type": "code",
   "execution_count": null,
   "id": "5b5011f6",
   "metadata": {},
   "outputs": [
    {
     "name": "stdout",
     "output_type": "stream",
     "text": [
      "Connected to /dev/ttyUSB0 @ 115200 baud.\n",
      "01: 00000001\n"
     ]
    }
   ],
   "source": [
    "read_addr(0x4B)"
   ]
  },
  {
   "cell_type": "markdown",
   "id": "587133d8",
   "metadata": {},
   "source": [
    "# Sleep mode\n"
   ]
  },
  {
   "cell_type": "markdown",
   "id": "eb1b26a5",
   "metadata": {},
   "source": [
    "In this state the user has full access to\n",
    "the device registers. In particular, the Chip ID can be read. Setting the power control bit to “0”\n",
    "(register 0x4B bit0) will bring the device back into Suspend mode. From the Sleep mode the user\n",
    "can put the device back into Suspend mode or into Active mode.\n",
    "\n",
    "- 0x4C:\n",
    "  - 7: advanced self-test control indx 1\n",
    "  - 6: advanced self-test control indx 0\n",
    "  - 5: data rate control indx 2\n",
    "  - 4: data rate control indx 1\n",
    "  - 3: data rate control indx 0\n",
    "  - 2: operation mode (opmode) control indx 1\n",
    "  - 1: operation mode (opmode) control indx 0\n",
    "  - 0: normal self test control\n",
    "\n",
    "Sleep to active (normal or forced): OpMode bits “00”.\n",
    "Active to sleep: OpMode bits “11”.\n"
   ]
  },
  {
   "cell_type": "code",
   "execution_count": 407,
   "id": "dc8268e8",
   "metadata": {},
   "outputs": [
    {
     "name": "stdout",
     "output_type": "stream",
     "text": [
      "Connected to /dev/ttyUSB0 @ 115200 baud.\n"
     ]
    },
    {
     "data": {
      "text/plain": [
       "b'\\xff'"
      ]
     },
     "execution_count": 407,
     "metadata": {},
     "output_type": "execute_result"
    }
   ],
   "source": [
    "write_addr(0x4C, 0x06)"
   ]
  },
  {
   "cell_type": "code",
   "execution_count": 409,
   "id": "49118439",
   "metadata": {},
   "outputs": [
    {
     "name": "stdout",
     "output_type": "stream",
     "text": [
      "Connected to /dev/ttyUSB0 @ 115200 baud.\n"
     ]
    },
    {
     "data": {
      "text/plain": [
       "b'\\xff'"
      ]
     },
     "execution_count": 409,
     "metadata": {},
     "output_type": "execute_result"
    }
   ],
   "source": [
    "read_addr(0x4C)"
   ]
  },
  {
   "cell_type": "markdown",
   "id": "30a478ab",
   "metadata": {},
   "source": [
    "# Active mode\n"
   ]
  },
  {
   "cell_type": "markdown",
   "id": "34330d9e",
   "metadata": {},
   "source": [
    "<img src=\"../assets/bm150//mode_diagram.png\">\n"
   ]
  },
  {
   "cell_type": "markdown",
   "id": "97992821",
   "metadata": {},
   "source": [
    "In this mode the magnetic field measurements are performed and all registers are accessible. In active mode, two operation modes can be distinguished:\n",
    "\n",
    "- Normal mode:\n",
    "\n",
    "selected channels are periodically measured according to settings set in\n",
    "user registers. After measurements are completed, output data is put into data registers\n",
    "and the device waits for the next measurement period, which is set by programmed output\n",
    "data rate (ODR).\n",
    "\n",
    "In principle any desired balance between output noise and\n",
    "active time (hence power consumption) can be adjusted by the repetition settings for x/y-axis and\n",
    "z-axis and the output data rate ODR. The average power consumption depends on the ratio of\n",
    "high current phase time (during data acquisition) and low current phase time (between data  \n",
    "acquisitions). Hence, the more repetitions are acquired to generate one magnetic field data point,\n",
    "the longer the active time ratio in one sample phase, and the higher the average current.\n",
    "\n",
    "With longer internal averaging, the noise level of the output data reduces with increasing number of\n",
    "repetitions.\n",
    "\n",
    "- Forced mode (single measurement):\n",
    "\n",
    "When set by the host, the selected channels are  \n",
    "measured according to settings programmed in user registers. After measurements are\n",
    "completed, output data is put into data registers, OpMode register value returns to “11”\n",
    "and the device returns to sleep mode. The forced mode is useful to achieve synchronized\n",
    "operation between host microcontroller and BMMdsa150. Also, different data output rates  \n",
    "from the ones selectable in normal mode can be achieved using forced mode.\n",
    "\n",
    "By using forced mode, it is possible to trigger new measurements at any rate. The user can  \n",
    "therefore trigger measurements in a shorter interval than it takes for a measurement cycle to  \n",
    "complete. If a measurement cycle is not allowed to complete, the resulting data will not be written\n",
    "into the data registers. To prevent this, the manually triggered measurement intervals must not\n",
    "be shorter than the active measurement time which is a function of the selected number of  \n",
    "repetitions. The maximum selectable read-out frequency in forced mode can be calculated as  \n",
    "follows:\n",
    "\n",
    "$$\n",
    "f_{max,ODR} \\approx \\frac{1}{145 \\mu s \\times nXY + 500 \\mu s \\times nZ + 980 \\mu s}\n",
    "$$\n",
    "\n",
    "Hereby nXY is the number of repetitions on X/Y-axis (not the register value) and nZ the number\n",
    "of repetitions on Z-axis (not the register value). The performed number of repetitions can be calculated from unsigned register value as:\n",
    "\n",
    "$$\n",
    "nXY = 1+2 \\times unsigned(REPXY)\n",
    "$$\n",
    "\n",
    "- 0x51: contains the number of repetitions for x/y-axis (REPXY).\n",
    "    $$\n",
    "    nZ = 1+ unsigned(REPZ)\n",
    "    $$\n",
    "- 0x52: contains the number of repetitions for z-axis (REPZ).\n"
   ]
  },
  {
   "cell_type": "code",
   "execution_count": 366,
   "id": "a4c74c28",
   "metadata": {},
   "outputs": [
    {
     "data": {
      "text/plain": [
       "343.0531732418525"
      ]
     },
     "execution_count": 366,
     "metadata": {},
     "output_type": "execute_result"
    }
   ],
   "source": [
    "def f_max_ODR(nXY, nZ):\n",
    "    return 1 / (145e-6 * nXY + 500e-6 * nZ + 980e-6)\n",
    "\n",
    "f_max_ODR(3, 3)"
   ]
  },
  {
   "cell_type": "markdown",
   "id": "b58f0068",
   "metadata": {},
   "source": [
    "Four recommended presets:\n",
    "\n",
    "- High accuracy\n",
    "- Enhanced regular\n",
    "- Regular\n",
    "- Low power\n",
    "\n",
    "Reflect the most common usage scenarios, i.e. required output accuracy at a given current consumption.\n",
    "\n",
    "The four presets consist of the below register configurations, which are automatically set by the\n",
    "BMM150 API or driver provided by Bosch Sensortec when a preset is selected.\n"
   ]
  },
  {
   "cell_type": "markdown",
   "id": "7cf14c06",
   "metadata": {},
   "source": [
    "<img src=\"../assets/bm150//presets.png\">"
   ]
  },
  {
   "cell_type": "code",
   "execution_count": 367,
   "id": "1cc94db6",
   "metadata": {},
   "outputs": [
    {
     "name": "stdout",
     "output_type": "stream",
     "text": [
      "Connected to /dev/ttyUSB0 @ 115200 baud.\n",
      "Connected to /dev/ttyUSB0 @ 115200 baud.\n"
     ]
    },
    {
     "data": {
      "text/plain": [
       "b'\\xff'"
      ]
     },
     "execution_count": 367,
     "metadata": {},
     "output_type": "execute_result"
    }
   ],
   "source": [
    "write_addr(0x51, 3) # nXY\n",
    "write_addr(0x52, 3) # nZ"
   ]
  },
  {
   "cell_type": "markdown",
   "id": "3fda6ccc",
   "metadata": {},
   "source": [
    "- 0x4C:\n",
    "  - 7: advanced self-test control indx 1\n",
    "  - 6: advanced self-test control indx 0\n",
    "  - 5: data rate control indx 2\n",
    "  - 4: data rate control indx 1\n",
    "  - 3: data rate control indx 0\n",
    "  - 2: operation mode (opmode) control indx 1\n",
    "  - 1: operation mode (opmode) control indx 0\n",
    "  - 0: normal self test control\n"
   ]
  },
  {
   "cell_type": "code",
   "execution_count": 368,
   "id": "fcd9b7f3",
   "metadata": {},
   "outputs": [
    {
     "name": "stdout",
     "output_type": "stream",
     "text": [
      "Connected to /dev/ttyUSB0 @ 115200 baud.\n"
     ]
    },
    {
     "data": {
      "text/plain": [
       "b'\\xff'"
      ]
     },
     "execution_count": 368,
     "metadata": {},
     "output_type": "execute_result"
    }
   ],
   "source": [
    "write_addr(0x4c, 0x06)"
   ]
  },
  {
   "cell_type": "code",
   "execution_count": 369,
   "id": "bc4507d0",
   "metadata": {},
   "outputs": [
    {
     "name": "stdout",
     "output_type": "stream",
     "text": [
      "Connected to /dev/ttyUSB0 @ 115200 baud.\n"
     ]
    },
    {
     "data": {
      "text/plain": [
       "'06'"
      ]
     },
     "execution_count": 369,
     "metadata": {},
     "output_type": "execute_result"
    }
   ],
   "source": [
    "read_addr(0x4c).hex()"
   ]
  },
  {
   "cell_type": "code",
   "execution_count": 370,
   "id": "ab60e77f",
   "metadata": {},
   "outputs": [
    {
     "name": "stdout",
     "output_type": "stream",
     "text": [
      "Connected to /dev/ttyUSB0 @ 115200 baud.\n"
     ]
    },
    {
     "data": {
      "text/plain": [
       "b'\\x03'"
      ]
     },
     "execution_count": 370,
     "metadata": {},
     "output_type": "execute_result"
    }
   ],
   "source": [
    "read_addr(0x51)"
   ]
  },
  {
   "cell_type": "code",
   "execution_count": 371,
   "id": "1d36eb3b",
   "metadata": {},
   "outputs": [
    {
     "name": "stdout",
     "output_type": "stream",
     "text": [
      "Connected to /dev/ttyUSB0 @ 115200 baud.\n"
     ]
    },
    {
     "data": {
      "text/plain": [
       "b'\\x03'"
      ]
     },
     "execution_count": 371,
     "metadata": {},
     "output_type": "execute_result"
    }
   ],
   "source": [
    "read_addr(0x52)"
   ]
  },
  {
   "cell_type": "markdown",
   "id": "bf7aad23",
   "metadata": {},
   "source": [
    "# Magnetic field data\n"
   ]
  },
  {
   "cell_type": "markdown",
   "id": "90010daf",
   "metadata": {},
   "source": [
    "Data representation is different between X/Y-axis and Z-axis.\n",
    "\n",
    "- X- and Y-axis magnetic field data is 13 bits each and stored in two’s complement.\n",
    "\n",
    "  - DATAX_LSB (0x42) contains 5-bit LSB [4:0] of the 13 bit X-channel.\n",
    "  - DATAX_MSB (0x43) contains 8-bit MSB [12:5] of the 13 bit X-channel.\n",
    "  - DATAY_LSB (0x44) contains 5-bit LSB [4:0] of the 13 bit Y-channel.\n",
    "  - DATAY_MSB (0x45) contains 8-bit MSB [12:5] of the 13 bit Y-channel.\n",
    "\n",
    "- Z-axis magnetic field data is 15 bit word stored in two’s complement.\n",
    "  - DATAZ_LSB (0x46) contains 7-bit LSB [6:0] of the 15 bit Z-channel.\n",
    "  - DATAZ_MSB (0x47) contains 8-bit MSB [14:7] of the 15 bit Z-channel.\n",
    "\n",
    "Temperature compensation on the host is used to get ideally matching sensitivity  \n",
    "over the full temperature range. The temperature compensation is based on a resistance  \n",
    "measurement of the hall sensor plate. The resistance value is represented by a 14 bit unsigned\n",
    "output word:\n",
    "\n",
    "- RHALL_LSB (0x48) contains 6-bit LSB [5:0] of the 14 bit RHALL-channel.\n",
    "- RHALL_MSB (0x49) contains 8-bit MSB [13:6] of the 14 bit RHALL-channel.\n",
    "\n",
    "After all enabled axes have been measured; complete data packages consisting of DATAX,  \n",
    "DATAY, DATAZ and RHALL are updated at once in the data registers. This way, it is prevented\n",
    "that a following axis is updated while the first axis is still being read (axis mix-up) or that MSB part\n",
    "of an axis is updated while LSB part is being read.\n",
    "\n",
    "While reading from any data register, data register update is blocked. Instead, incoming new data\n",
    "is written into shadow registers which will be written to data registers after the previous read  \n",
    "sequence is completed (i.e. upon stop condition in I²C mode, or CSB going high in SPI mode,\n",
    "respectively). Hence, it is recommended to read out at all data at once (0x42 to 0x49 or 0x4A if\n",
    "status bits are also required) with a burst read. Single bytes or axes can be read out, while in \n",
    "this case it is not assured that adjacent registers are not updated during readout sequence.\n",
    "\n",
    "The  “Data  ready  status”  bit  (register  0x48  bit0)  is  set  “1”  when  the  data  registers  have  been  \n",
    "updated but the data was not yet read out over digital interface. Data ready is cleared (set “0”) \n",
    "directly after completed read out of any of the data registers and subsequent stop condition (I²C) \n",
    "or lifting of CSB (SPI).\n",
    "\n",
    "In  addition,  when  enabled  the  “Data  overrun”  bit  (register  0x4A  bit7)  turns  “1”  whenever  data  \n",
    "registers are updated internally, but the old data was not yet read out over digital interface (i.e. \n",
    "data ready bit was still high). The “Data overrun” bit is cleared when the interrupt status register \n",
    "0x4A is read out. This function needs to be enabled separately by setting the “Data overrun En” \n",
    "bit (register 0x4D bit7)."
   ]
  },
  {
   "cell_type": "markdown",
   "id": "653717a6",
   "metadata": {},
   "source": [
    "<img src=\"../assets/bm150//drdy.png\">"
   ]
  },
  {
   "cell_type": "markdown",
   "id": "805fa4f8",
   "metadata": {},
   "source": [
    "When the “Data Ready Pin En” bit (register 0x4E bit7) is set, the Data Ready (DRDY) interrupt \n",
    "event is flagged on the BMM150’s DRDY output pin (by default the “Data Ready Pin En” bit is not \n",
    "set and DRDY pin is in high-Z state).\n",
    "\n",
    "The interrupt status registers are updated together with writing new data into the magnetic field \n",
    "data registers. The status bits for Low-/High-Threshold interrupts are located in register 0x4A, the \n",
    "Data Ready (DRDY) status flag is located at register 0x48 bit0.\n",
    "\n",
    "This interrupt serves for synchronous reading of magnetometer data. It is generated after storing \n",
    "a new set of values (DATAX, DATAY, DATAZ, RHALL) in the data registers\n",
    "\n",
    "It is enabled (disabled) by writing “1” (“0”) to “Data Ready pin En” in register 0x4E bit7."
   ]
  },
  {
   "cell_type": "markdown",
   "id": "15e0390b",
   "metadata": {},
   "source": [
    "- 0x4E: contains control bits interrupt settings and axes enable bits.\n",
    "  - 7: enables DRDY (default is disabled)\n",
    "  - 6: enables INT \"interrupt pin en\" (default is '0')\n",
    "  - 5: enables channel Z and resistance measurement (default is '0')\n",
    "  - 4: enables channel Y and resistance measurement (default is '0')\n",
    "  - 3: enables channel X and resistance measurement (default is '0')\n",
    "  - 2: DRDY polarity (default is '1')\n",
    "    - '0': active low\n",
    "    - '1': active high\n",
    "  - 1: INT latching (default is '1')\n",
    "    - '0': non-latched (interrupt pin is on as long as the condition is fullfilled)\n",
    "    - '1': latched (interrupt pin is on until interrupt status register 0x4A is read)\n",
    "  - 0: INT polarity (default is '1')\n",
    "    - '0': active low\n",
    "    - '1': active high"
   ]
  },
  {
   "cell_type": "code",
   "execution_count": 372,
   "id": "b5f87c8e",
   "metadata": {},
   "outputs": [
    {
     "name": "stdout",
     "output_type": "stream",
     "text": [
      "Connected to /dev/ttyUSB0 @ 115200 baud.\n"
     ]
    },
    {
     "data": {
      "text/plain": [
       "b'\\xff'"
      ]
     },
     "execution_count": 372,
     "metadata": {},
     "output_type": "execute_result"
    }
   ],
   "source": [
    "write_addr(0x4E, 0xBF)"
   ]
  },
  {
   "cell_type": "code",
   "execution_count": 373,
   "id": "850f179a",
   "metadata": {},
   "outputs": [
    {
     "name": "stdout",
     "output_type": "stream",
     "text": [
      "Connected to /dev/ttyUSB0 @ 115200 baud.\n"
     ]
    },
    {
     "data": {
      "text/plain": [
       "b'\\xbf'"
      ]
     },
     "execution_count": 373,
     "metadata": {},
     "output_type": "execute_result"
    }
   ],
   "source": [
    "read_addr(0x4E)"
   ]
  },
  {
   "cell_type": "code",
   "execution_count": null,
   "id": "aff28a9f",
   "metadata": {},
   "outputs": [],
   "source": [
    "def twos_complement(value, bits):\n",
    "    \"\"\"Convert an integer value to signed two's complement.\"\"\"\n",
    "    if value & (1 << (bits - 1)):\n",
    "        value -= 1 << bits\n",
    "    return value\n",
    "\n",
    "def parse_burst(raw):\n",
    "    # --- X-axis: 13 bits, two's complement\n",
    "    x_raw = ((raw[1] << 5) | (raw[0] & 0x1F))\n",
    "    x_val = twos_complement(x_raw, 13)\n",
    "    \n",
    "    # --- Y-axis: 13 bits, two's complement\n",
    "    y_raw = ((raw[3] << 5) | (raw[2] & 0x1F))\n",
    "    y_val = twos_complement(y_raw, 13)\n",
    "    \n",
    "    # --- Z-axis: 15 bits, two's complement\n",
    "    z_raw = ((raw[5] << 7) | (raw[4] & 0x7F))\n",
    "    z_val = twos_complement(z_raw, 15)\n",
    "    \n",
    "    # --- RHALL: 14 bits unsigned\n",
    "    rhall_raw = ((raw[7] << 6) | (raw[6] & 0x3F))\n",
    "    \n",
    "    # --- Data Ready bit (bit0 of register 0x48)\n",
    "    data_ready = raw[6] & 0x01\n",
    "    \n",
    "    return {\n",
    "        \"X\": x_val,\n",
    "        \"Y\": y_val,\n",
    "        \"Z\": z_val,\n",
    "        \"RHALL\": rhall_raw,\n",
    "        \"DataReady\": bool(data_ready)\n",
    "    }"
   ]
  },
  {
   "cell_type": "code",
   "execution_count": 401,
   "id": "b3b41ef1",
   "metadata": {},
   "outputs": [
    {
     "name": "stdout",
     "output_type": "stream",
     "text": [
      "Connected to /dev/ttyUSB0 @ 115200 baud.\n",
      "Connected to /dev/ttyUSB0 @ 115200 baud.\n",
      "Connected to /dev/ttyUSB0 @ 115200 baud.\n",
      "Connected to /dev/ttyUSB0 @ 115200 baud.\n"
     ]
    },
    {
     "data": {
      "text/plain": [
       "b'\\xff'"
      ]
     },
     "execution_count": 401,
     "metadata": {},
     "output_type": "execute_result"
    }
   ],
   "source": [
    "clean_uart()\n",
    "write_addr(0x4C, 0x00)  # Active\n",
    "\n",
    "\n",
    "burst_data = read_burst()\n",
    "results = parse_burst(burst_data)\n",
    "\n",
    "\n",
    "write_addr(0x4C, 0x06)  # Sleep"
   ]
  }
 ],
 "metadata": {
  "kernelspec": {
   "display_name": ".venv",
   "language": "python",
   "name": "python3"
  },
  "language_info": {
   "codemirror_mode": {
    "name": "ipython",
    "version": 3
   },
   "file_extension": ".py",
   "mimetype": "text/x-python",
   "name": "python",
   "nbconvert_exporter": "python",
   "pygments_lexer": "ipython3",
   "version": "3.12.3"
  }
 },
 "nbformat": 4,
 "nbformat_minor": 5
}
