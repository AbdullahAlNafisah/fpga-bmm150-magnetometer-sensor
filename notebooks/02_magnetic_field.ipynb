{
 "cells": [
  {
   "cell_type": "code",
   "execution_count": 27,
   "id": "261be847",
   "metadata": {},
   "outputs": [
    {
     "name": "stdout",
     "output_type": "stream",
     "text": [
      "Available Serial Ports: ['/dev/ttyUSB0', '/dev/ttyprintk', '/dev/ttyS31', '/dev/ttyS30', '/dev/ttyS29', '/dev/ttyS28', '/dev/ttyS27', '/dev/ttyS26', '/dev/ttyS25', '/dev/ttyS24', '/dev/ttyS23', '/dev/ttyS22', '/dev/ttyS21', '/dev/ttyS20', '/dev/ttyS19', '/dev/ttyS18', '/dev/ttyS17', '/dev/ttyS16', '/dev/ttyS15', '/dev/ttyS14', '/dev/ttyS13', '/dev/ttyS12', '/dev/ttyS11', '/dev/ttyS10', '/dev/ttyS9', '/dev/ttyS8', '/dev/ttyS7', '/dev/ttyS6', '/dev/ttyS5', '/dev/ttyS4', '/dev/ttyS3', '/dev/ttyS2', '/dev/ttyS1', '/dev/ttyS0']\n"
     ]
    }
   ],
   "source": [
    "import glob\n",
    "\n",
    "available_ports = glob.glob(\"/dev/tty[A-Za-z]*\")\n",
    "print(\"Available Serial Ports:\", available_ports)"
   ]
  },
  {
   "cell_type": "code",
   "execution_count": 28,
   "id": "3ecc0199",
   "metadata": {},
   "outputs": [],
   "source": [
    "import time, serial, struct\n",
    "import matplotlib.pyplot as plt\n",
    "import numpy as np\n",
    "from IPython.display import display, clear_output\n",
    "\n",
    "SERIAL_PORT = \"/dev/ttyUSB0\"  # Change to match your setup\n",
    "BAUD_RATE = 115200"
   ]
  },
  {
   "cell_type": "code",
   "execution_count": 29,
   "id": "045da390",
   "metadata": {},
   "outputs": [],
   "source": [
    "def clean_uart():\n",
    "    with serial.Serial(SERIAL_PORT, BAUD_RATE, timeout=0.5) as ser:\n",
    "        ser.reset_input_buffer()\n",
    "        ser.reset_output_buffer()\n",
    "        return 1\n",
    "\n",
    "def read_addr(addr):\n",
    "    with serial.Serial(SERIAL_PORT, BAUD_RATE, timeout=0.5) as ser:\n",
    "        ser.write(bytes([0xA2]))\n",
    "        rw_addr = addr | 0x80\n",
    "        ser.write(bytes([rw_addr]))\n",
    "        return ser.read(2)\n",
    "\n",
    "def write_addr(addr, data):\n",
    "    with serial.Serial(SERIAL_PORT, BAUD_RATE, timeout=0.5) as ser:\n",
    "        ser.write(bytes([0xA2]))\n",
    "        ser.write(bytes([addr]))\n",
    "        ser.write(bytes([data]))\n",
    "        return ser.read(2)\n",
    "    \n",
    "def read_burst():\n",
    "    with serial.Serial(SERIAL_PORT, BAUD_RATE, timeout=0.5) as ser:\n",
    "        ser.write(bytes([0xA3]))\n",
    "        data = ser.read(8)\n",
    "        return data\n",
    "    \n",
    "def twos_complement(value, bits):\n",
    "    \"\"\"Convert an integer value to signed two's complement.\"\"\"\n",
    "    if value & (1 << (bits - 1)):\n",
    "        value -= 1 << bits\n",
    "    return value\n",
    "\n",
    "def parse_burst(raw):\n",
    "    # --- X-axis: 13 bits, two's complement\n",
    "    x_raw = ((raw[1] << 5) | (raw[0] & 0x1F))\n",
    "    x_val = twos_complement(x_raw, 13)\n",
    "    \n",
    "    # --- Y-axis: 13 bits, two's complement\n",
    "    y_raw = ((raw[3] << 5) | (raw[2] & 0x1F))\n",
    "    y_val = twos_complement(y_raw, 13)\n",
    "    \n",
    "    # --- Z-axis: 15 bits, two's complement\n",
    "    z_raw = ((raw[5] << 7) | (raw[4] & 0x7F))\n",
    "    z_val = twos_complement(z_raw, 15)\n",
    "    \n",
    "    # --- RHALL: 14 bits unsigned\n",
    "    rhall_raw = ((raw[7] << 6) | (raw[6] & 0x3F))\n",
    "    \n",
    "    # --- Data Ready bit (bit0 of register 0x48)\n",
    "    data_ready = raw[6] & 0x01\n",
    "    \n",
    "    return {\n",
    "        \"X\": x_val,\n",
    "        \"Y\": y_val,\n",
    "        \"Z\": z_val,\n",
    "        \"RHALL\": rhall_raw,\n",
    "        \"DataReady\": bool(data_ready)\n",
    "    }\n",
    "\n",
    "def f_max_ODR(nXY, nZ):\n",
    "    return 1 / (145e-6 * nXY + 500e-6 * nZ + 980e-6)"
   ]
  },
  {
   "cell_type": "code",
   "execution_count": 43,
   "id": "9d0daeba",
   "metadata": {},
   "outputs": [
    {
     "name": "stdout",
     "output_type": "stream",
     "text": [
      "Power control register: True\n",
      "Repetition for nXY register: True\n",
      "Repetition for nZ register: True\n",
      "Maximum possible data rate: 343.0531732418525\n",
      "Operation mode register: True\n",
      "Interrupt settings register: True\n"
     ]
    }
   ],
   "source": [
    "# Power control, soft reset and SPI mode control register\n",
    "pwr_wr = 0x01\n",
    "write_addr(0x4B, 0x00) # full POR suspend mode\n",
    "time.sleep(0.1) # 100ms startup time\n",
    "write_addr(0x4B, 0x83) # Soft reset\n",
    "time.sleep(0.005) # 5ms startup time\n",
    "write_addr(0x4B, 0x01)  # Enable power\n",
    "time.sleep(0.003)\n",
    "pwr_rd = read_addr(0x4B)[0]\n",
    "print(\"Power control register:\", pwr_rd == pwr_wr)\n",
    "\n",
    "# Repetitions control registers\n",
    "nXY_wr = 3\n",
    "nZ_wr = 3\n",
    "write_addr(0x51, nXY_wr)\n",
    "write_addr(0x52, nZ_wr)\n",
    "nXY_rd = read_addr(0x51)[0]\n",
    "nZ_rd = read_addr(0x52)[0]\n",
    "print(\"Repetition for nXY register:\", nXY_rd == nXY_wr)\n",
    "print(\"Repetition for nZ register:\", nZ_rd == nZ_wr)\n",
    "print(\"Maximum possible data rate:\", f_max_ODR(nXY_wr, nZ_wr))\n",
    "\n",
    "\n",
    "# Operation mode, output data rate and self-test control register\n",
    "opmode_wr = 0x06\n",
    "write_addr(0x4C, opmode_wr) # set data rate\n",
    "opmode_rd = read_addr(0x4C)[0]\n",
    "print(\"Operation mode register:\", opmode_rd == opmode_wr)\n",
    "\n",
    "# Interrupt settings and axes enable bits control register\n",
    "int_wr = 0xBF\n",
    "write_addr(0x4E, int_wr) # Enable DRDY, x-, y-, and z-axis\n",
    "int_rd = read_addr(0x4E)[0]\n",
    "print(\"Interrupt settings register:\", int_rd == int_wr)"
   ]
  },
  {
   "cell_type": "code",
   "execution_count": 44,
   "id": "5fdd62ab",
   "metadata": {},
   "outputs": [
    {
     "data": {
      "image/png": "[encoded data removed]",
      "text/plain": [
       "<Figure size 800x500 with 1 Axes>"
      ]
     },
     "metadata": {},
     "output_type": "display_data"
    }
   ],
   "source": [
    "runs = 10\n",
    "\n",
    "# Initialize\n",
    "clean_uart()\n",
    "\n",
    "write_addr(0x4C, 0x00)  # Set Active Mode\n",
    "time.sleep(1)\n",
    "\n",
    "x_vals = []\n",
    "y_vals = []\n",
    "z_vals = []\n",
    "\n",
    "plt.figure(figsize=(8, 5))\n",
    "\n",
    "try:\n",
    "    for i in range(runs):\n",
    "\n",
    "        burst_data = read_burst()\n",
    "        results = parse_burst(burst_data)\n",
    "        \n",
    "        # Store data\n",
    "        x_vals.append(results[\"X\"])\n",
    "        y_vals.append(results[\"Y\"])\n",
    "        z_vals.append(results[\"Z\"])\n",
    "        \n",
    "        # Clear previous plot\n",
    "        clear_output(wait=True)\n",
    "        plt.clf()\n",
    "        \n",
    "        # Plot updated data\n",
    "        plt.plot(x_vals, label=\"X-axis\", color='r')\n",
    "        plt.plot(y_vals, label=\"Y-axis\", color='g')\n",
    "        plt.plot(z_vals, label=\"Z-axis\", color='b')\n",
    "        plt.title(\"Magnetic Field Data\")\n",
    "        plt.xlabel(\"Sample\")\n",
    "        plt.ylabel(\"Field Value\")\n",
    "        plt.legend()\n",
    "        plt.grid(True)\n",
    "        plt.tight_layout()\n",
    "        \n",
    "        # Display updated plot\n",
    "        display(plt.gcf()) \n",
    "finally:\n",
    "    write_addr(0x4C, 0x06)  # Sleep Mode\n",
    "    plt.close()  # Prevent Jupyter from showing the last static plot\n"
   ]
  },
  {
   "cell_type": "code",
   "execution_count": 39,
   "id": "568b66c7",
   "metadata": {},
   "outputs": [
    {
     "data": {
      "text/plain": [
       "{'X': 1, 'Y': 1, 'Z': 1, 'RHALL': 1, 'DataReady': True}"
      ]
     },
     "execution_count": 39,
     "metadata": {},
     "output_type": "execute_result"
    }
   ],
   "source": [
    "results"
   ]
  },
  {
   "cell_type": "code",
   "execution_count": 65,
   "id": "458a6b15",
   "metadata": {},
   "outputs": [
    {
     "data": {
      "text/plain": [
       "'01'"
      ]
     },
     "execution_count": 65,
     "metadata": {},
     "output_type": "execute_result"
    }
   ],
   "source": [
    "read_addr(0x48).hex()"
   ]
  },
  {
   "cell_type": "code",
   "execution_count": null,
   "id": "bff8e7e1",
   "metadata": {},
   "outputs": [
    {
     "data": {
      "text/plain": [
       "{'X': 1, 'Y': 1, 'Z': 1, 'RHALL': 1, 'DataReady': True}"
      ]
     },
     "execution_count": 48,
     "metadata": {},
     "output_type": "execute_result"
    }
   ],
   "source": [
    "write_addr(0x4C, 0x06)"
   ]
  },
  {
   "cell_type": "markdown",
   "id": "d0180108",
   "metadata": {},
   "source": [
    "# Self test (normal)"
   ]
  },
  {
   "cell_type": "code",
   "execution_count": 25,
   "id": "a2bf8efe",
   "metadata": {},
   "outputs": [
    {
     "name": "stdout",
     "output_type": "stream",
     "text": [
      "Normal Self-Test Results: X=PASS Y=PASS Z=PASS\n"
     ]
    },
    {
     "data": {
      "text/plain": [
       "b'\\xff'"
      ]
     },
     "execution_count": 25,
     "metadata": {},
     "output_type": "execute_result"
    }
   ],
   "source": [
    "write_addr(0x4C, 0x06)  # Sleep mode\n",
    "time.sleep(0.003)\n",
    "\n",
    "write_addr(0x4C, 0x07)  # Sleep mode + self-test enable\n",
    "time.sleep(0.002)       # Wait for test\n",
    "\n",
    "write_addr(0x4C, 0x06)  # Back to Sleep mode\n",
    "\n",
    "x_result = read_addr(0x42)[0] & 0x01\n",
    "y_result = read_addr(0x44)[0] & 0x01\n",
    "z_result = read_addr(0x46)[0] & 0x01\n",
    "\n",
    "print(\"Normal Self-Test Results:\",\n",
    "      f\"X={'PASS' if x_result else 'FAIL'}\",\n",
    "      f\"Y={'PASS' if y_result else 'FAIL'}\",\n",
    "      f\"Z={'PASS' if z_result else 'FAIL'}\")\n",
    "\n",
    "write_addr(0x4C, 0x00)"
   ]
  },
  {
   "cell_type": "markdown",
   "id": "d7af11e9",
   "metadata": {},
   "source": [
    "# Self test (advanced)"
   ]
  },
  {
   "cell_type": "code",
   "execution_count": 22,
   "id": "8a55c2f7",
   "metadata": {},
   "outputs": [
    {
     "ename": "IndexError",
     "evalue": "index out of range",
     "output_type": "error",
     "traceback": [
      "\u001b[31m---------------------------------------------------------------------------\u001b[39m",
      "\u001b[31mIndexError\u001b[39m                                Traceback (most recent call last)",
      "\u001b[36mCell\u001b[39m\u001b[36m \u001b[39m\u001b[32mIn[22]\u001b[39m\u001b[32m, line 10\u001b[39m\n\u001b[32m      8\u001b[39m write_addr(\u001b[32m0x4C\u001b[39m, \u001b[32m0x02\u001b[39m)\n\u001b[32m      9\u001b[39m time.sleep(\u001b[32m0.01\u001b[39m)\n\u001b[32m---> \u001b[39m\u001b[32m10\u001b[39m burst_pos = \u001b[43mparse_burst\u001b[49m\u001b[43m(\u001b[49m\u001b[43mread_burst\u001b[49m\u001b[43m(\u001b[49m\u001b[43m)\u001b[49m\u001b[43m)\u001b[49m\n\u001b[32m     12\u001b[39m write_addr(\u001b[32m0x4E\u001b[39m, \u001b[32m0x06\u001b[39m)\n\u001b[32m     16\u001b[39m write_addr(\u001b[32m0x4C\u001b[39m, \u001b[32m0x02\u001b[39m)\n",
      "\u001b[36mCell\u001b[39m\u001b[36m \u001b[39m\u001b[32mIn[13]\u001b[39m\u001b[32m, line 35\u001b[39m, in \u001b[36mparse_burst\u001b[39m\u001b[34m(raw)\u001b[39m\n\u001b[32m     33\u001b[39m \u001b[38;5;28;01mdef\u001b[39;00m\u001b[38;5;250m \u001b[39m\u001b[34mparse_burst\u001b[39m(raw):\n\u001b[32m     34\u001b[39m     \u001b[38;5;66;03m# --- X-axis: 13 bits, two's complement\u001b[39;00m\n\u001b[32m---> \u001b[39m\u001b[32m35\u001b[39m     x_raw = ((\u001b[43mraw\u001b[49m\u001b[43m[\u001b[49m\u001b[32;43m1\u001b[39;49m\u001b[43m]\u001b[49m << \u001b[32m5\u001b[39m) | (raw[\u001b[32m0\u001b[39m] & \u001b[32m0x1F\u001b[39m))\n\u001b[32m     36\u001b[39m     x_val = twos_complement(x_raw, \u001b[32m13\u001b[39m)\n\u001b[32m     38\u001b[39m     \u001b[38;5;66;03m# --- Y-axis: 13 bits, two's complement\u001b[39;00m\n",
      "\u001b[31mIndexError\u001b[39m: index out of range"
     ]
    }
   ],
   "source": [
    "write_addr(0x4C, 0x06)\n",
    "time.sleep(0.003)\n",
    "\n",
    "write_addr(0x4E, 0x04)  # Example: enable only Z-axis\n",
    "write_addr(0x52, 0x52)\n",
    "\n",
    "write_addr(0x4E, 0x05)\n",
    "write_addr(0x4C, 0x02)\n",
    "time.sleep(0.01)\n",
    "burst_pos = parse_burst(read_burst())\n",
    "\n",
    "write_addr(0x4E, 0x06)\n",
    "\n",
    "\n",
    "\n",
    "write_addr(0x4C, 0x02)\n",
    "time.sleep(0.01)\n",
    "burst_neg = parse_burst(read_burst())\n",
    "write_addr(0x4E, 0x04)\n",
    "\n",
    "\n",
    "diff = burst_pos[\"Z\"] - burst_neg[\"Z\"]\n",
    "print(\"Advanced Self-Test ΔZ =\", diff)\n",
    "\n",
    "write_addr(0x4B, 0x83)\n",
    "time.sleep(0.05)\n"
   ]
  },
  {
   "cell_type": "code",
   "execution_count": 24,
   "id": "d6e4fde2",
   "metadata": {},
   "outputs": [
    {
     "data": {
      "text/plain": [
       "''"
      ]
     },
     "execution_count": 24,
     "metadata": {},
     "output_type": "execute_result"
    }
   ],
   "source": [
    "read_burst().hex()"
   ]
  },
  {
   "cell_type": "code",
   "execution_count": 40,
   "id": "2d984b13",
   "metadata": {},
   "outputs": [
    {
     "data": {
      "text/plain": [
       "b'\\xff'"
      ]
     },
     "execution_count": 40,
     "metadata": {},
     "output_type": "execute_result"
    }
   ],
   "source": [
    "write_addr(0x4B, 0x83)  # Soft reset\n",
    "time.sleep(0.05)\n",
    "\n",
    "write_addr(0x4B, 0x01)  # Power on\n",
    "time.sleep(0.003)\n",
    "\n",
    "write_addr(0x4C, 0x00)  # Normal mode\n",
    "write_addr(0x51, 0x17)  # nXY = 23 repetitions\n",
    "write_addr(0x52, 0x52)  # nZ = 82 repetitions\n"
   ]
  },
  {
   "cell_type": "code",
   "execution_count": null,
   "id": "bb6a762a",
   "metadata": {},
   "outputs": [],
   "source": [
    "def compensate_x(raw_x, rhall, trim):\n",
    "    if raw_x == -4096:  # overflow\n",
    "        return 0\n",
    "    if rhall == 0:\n",
    "        rhall = trim[\"dig_xyz1\"]\n",
    "    process_comp = rhall\n",
    "    if process_comp != 0:\n",
    "        process_comp = (trim[\"dig_xyz1\"] * 16384 / process_comp) - 16384\n",
    "        process_comp = raw_x * (((trim[\"dig_xy2\"] * (process_comp**2) / (1 << 28)) +\n",
    "                                 (process_comp * trim[\"dig_xy1\"] / 16384) +\n",
    "                                 256) * (trim[\"dig_x2\"] + 160)) / 8192\n",
    "        process_comp = (process_comp + (trim[\"dig_x1\"] * 8)) / 16\n",
    "        return int(process_comp)\n",
    "    return 0\n"
   ]
  },
  {
   "cell_type": "code",
   "execution_count": 45,
   "id": "711baf79",
   "metadata": {},
   "outputs": [],
   "source": [
    "status = read_addr(0x48)[0]\n",
    "if status & 0x01:\n",
    "    burst = read_burst()\n"
   ]
  },
  {
   "cell_type": "code",
   "execution_count": 47,
   "id": "5561468b",
   "metadata": {},
   "outputs": [
    {
     "data": {
      "text/plain": [
       "''"
      ]
     },
     "execution_count": 47,
     "metadata": {},
     "output_type": "execute_result"
    }
   ],
   "source": [
    "burst.hex()"
   ]
  }
 ],
 "metadata": {
  "kernelspec": {
   "display_name": ".venv",
   "language": "python",
   "name": "python3"
  },
  "language_info": {
   "codemirror_mode": {
    "name": "ipython",
    "version": 3
   },
   "file_extension": ".py",
   "mimetype": "text/x-python",
   "name": "python",
   "nbconvert_exporter": "python",
   "pygments_lexer": "ipython3",
   "version": "3.12.3"
  }
 },
 "nbformat": 4,
 "nbformat_minor": 5
}
